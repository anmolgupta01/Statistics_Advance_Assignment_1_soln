{
 "cells": [
  {
   "cell_type": "markdown",
   "id": "d56c3f69",
   "metadata": {},
   "source": [
    "# Q1. What is the Probability density function?"
   ]
  },
  {
   "cell_type": "markdown",
   "id": "1681dffa",
   "metadata": {},
   "source": [
    "The Probability Density Function (PDF) is a fundamental concept in statistics and probability theory. It's a function that describes the likelihood of a continuous random variable taking on a specific value or falling within a certain range of values.\n",
    "\n",
    "In a continuous probability distribution, like the normal distribution or the exponential distribution, the PDF provides the probability density for each possible value of the random variable. The PDF has the following properties:\n",
    "\n",
    "It is non-negative: The PDF is always non-negative, meaning it assigns non-negative probabilities to all possible values of the random variable.\n",
    "\n",
    "The total area under the curve is equal to 1: The integral of the PDF over the entire range of possible values equals 1. This reflects the fact that the probability of the random variable taking on some value within its entire range must be 100% or 1.\n",
    "\n",
    "It represents the relative likelihood: The height of the PDF at a specific point indicates the relative likelihood of the random variable taking on that particular value. Higher points on the PDF suggest a higher probability of occurrence."
   ]
  },
  {
   "cell_type": "markdown",
   "id": "498e9f7c",
   "metadata": {},
   "source": [
    "# Q2. What are the types of Probability distribution?"
   ]
  },
  {
   "cell_type": "markdown",
   "id": "1a906804",
   "metadata": {},
   "source": [
    "Uniform Distribution: This distribution represents a continuous random variable with equal probabilities over a specified range. All values within the range have the same probability.\n",
    "\n",
    "Normal Distribution: Also known as the Gaussian distribution, it is characterized by a bell-shaped curve and is commonly used to model many natural phenomena. It is defined by its mean (μ) and standard deviation (σ).\n",
    "\n",
    "Binomial Distribution: Used for discrete random variables with two possible outcomes (success and failure) in a fixed number of trials. It's characterized by parameters n (number of trials) and p (probability of success).\n",
    "\n",
    "Poisson Distribution: Used to model the number of events occurring in a fixed interval of time or space when the events are rare and independent. It's characterized by a parameter λ (lambda), which represents the average rate of events.\n",
    "\n",
    "Exponential Distribution: Describes the time between events in a Poisson process, where events occur at a constant average rate. It's characterized by a parameter λ (lambda), representing the rate of event occurrence.\n",
    "\n",
    "Bernoulli Distribution: A special case of the binomial distribution where there is only one trial. It represents the probability of success (p) or failure (1-p) in a single trial.\n",
    "\n",
    "Log-Normal Distribution: Describes random variables whose natural logarithms follow a normal distribution. It's often used for modeling data that is positively skewed."
   ]
  },
  {
   "cell_type": "markdown",
   "id": "50b5b978",
   "metadata": {},
   "source": [
    "# Q3. Write a Python function to calculate the probability density function of a normal distribution with given mean and standard deviation at a given point."
   ]
  },
  {
   "cell_type": "code",
   "execution_count": 2,
   "id": "6be19bb4",
   "metadata": {},
   "outputs": [
    {
     "name": "stdout",
     "output_type": "stream",
     "text": [
      "PDF at 3.0 = 0.12098536225957168\n"
     ]
    }
   ],
   "source": [
    "import math\n",
    "\n",
    "def PDF(x, mean, std):\n",
    "    # x: The point at which to calculate the PDF.\n",
    "    # mean: The mean (average) of the normal distribution.\n",
    "    # std: The standard deviation of the normal distribution.\n",
    "    coefficient = 1 / (std * math.sqrt(2 * math.pi))\n",
    "    exponent = -0.5 * ((x - mean) / std) ** 2\n",
    "    pdf = coefficient * math.exp(exponent)\n",
    "    return pdf\n",
    "\n",
    "mean = 5.0\n",
    "std_dev = 2.0\n",
    "x_value = 3.0\n",
    "pdf = PDF(x_value, mean, std_dev)\n",
    "print(f\"PDF at {x_value} = {pdf}\")\n"
   ]
  },
  {
   "cell_type": "markdown",
   "id": "b85db933",
   "metadata": {},
   "source": [
    "# Q4. What are the properties of Binomial distribution? Give two examples of events where binomial distribution can be applied."
   ]
  },
  {
   "cell_type": "markdown",
   "id": "7d8efbd9",
   "metadata": {},
   "source": [
    "The properties of a Binomial distribution include:\n",
    "\n",
    "Two Possible Outcomes: There are exactly two mutually exclusive outcomes for each trial, often referred to as \"success\" and \"failure.\"\n",
    "\n",
    "Fixed Number of Trials: The number of trials (n) is fixed in advance.\n",
    "\n",
    "Independent Trials: Each trial is independent of the others, meaning the outcome of one trial does not affect the outcomes of subsequent trials.\n",
    "\n",
    "Constant Probability: The probability of success (p) remains constant for each trial. The probability of failure (q = 1 - p) also remains constant.\n",
    "\n",
    "Discrete Outcome: The random variable X representing the number of successes is discrete, meaning it can take on only whole numbers (0, 1, 2, ...).\n",
    "\n",
    "Two examples of events or situations where the Binomial distribution can be applied are:\n",
    "\n",
    "Coin Flips: The outcome of a coin flip can be modeled as a Binomial distribution. Each flip is a trial with two possible outcomes (heads or tails), and if you flip the coin a fixed number of times (e.g., 10 times) with a constant probability of getting heads (e.g., 0.5 for a fair coin), you can use the Binomial distribution to calculate the probability of getting a certain number of heads.\n",
    "\n",
    "Quality Control: In manufacturing, when inspecting a batch of products for defects, each product can be classified as either defective or non-defective. If you sample a fixed number of items (e.g., 100 items) from the batch and want to calculate the probability of finding a certain number of defective items, you can use the Binomial distribution, assuming the probability of any individual item being defective remains constant."
   ]
  },
  {
   "cell_type": "markdown",
   "id": "14fe88fd",
   "metadata": {},
   "source": [
    "# Q5. Generate a random sample of size 1000 from a binomial distribution with probability of success 0.4 and plot a histogram of the results using matplotlib."
   ]
  },
  {
   "cell_type": "code",
   "execution_count": 4,
   "id": "3a5977ea",
   "metadata": {},
   "outputs": [
    {
     "data": {
      "image/png": "[encoded data removed]",
      "text/plain": [
       "<Figure size 640x480 with 1 Axes>"
      ]
     },
     "metadata": {},
     "output_type": "display_data"
    }
   ],
   "source": [
    "import numpy as np\n",
    "import matplotlib.pyplot as plt\n",
    "\n",
    "# Parameters\n",
    "n = 1000  # Sample size\n",
    "p = 0.4   # Probability of success\n",
    "\n",
    "# Generate random sample from a binomial distribution\n",
    "random_sample = np.random.binomial(1, p, n)\n",
    "\n",
    "# Plot a histogram\n",
    "plt.hist(random_sample, bins=2, edgecolor='k')\n",
    "plt.xlabel('Success (1) or Failure (0)')\n",
    "plt.ylabel('Frequency')\n",
    "plt.title('Histogram of a Binomial Distribution')\n",
    "plt.xticks([0, 1])\n",
    "plt.show()\n"
   ]
  },
  {
   "cell_type": "markdown",
   "id": "56935224",
   "metadata": {},
   "source": [
    "# Q6. Write a Python function to calculate the cumulative distribution function of a Poisson distribution with given mean at a given point."
   ]
  },
  {
   "cell_type": "code",
   "execution_count": 5,
   "id": "2c9a84c4",
   "metadata": {},
   "outputs": [
    {
     "name": "stdout",
     "output_type": "stream",
     "text": [
      "CDF at 2 = 0.42319008112684353\n"
     ]
    }
   ],
   "source": [
    "import math\n",
    "\n",
    "def poisson_cdf(k, mean):\n",
    "    \"\"\"\n",
    "    Parameters:\n",
    "    - k: The point at which to calculate the CDF.\n",
    "    - mean: The mean (average) of the Poisson distribution.\n",
    "    \"\"\"\n",
    "    cdf = 0\n",
    "    for i in range(k + 1):\n",
    "        cdf += (math.exp(-mean) * mean ** i) / math.factorial(i)\n",
    "    return cdf\n",
    "\n",
    "# Example usage:\n",
    "mean = 3.0\n",
    "k_value = 2\n",
    "cdf_at_k = poisson_cdf(k_value, mean)\n",
    "print(f\"CDF at {k_value} = {cdf_at_k}\")\n"
   ]
  },
  {
   "cell_type": "markdown",
   "id": "52fde6b6",
   "metadata": {},
   "source": [
    "# Q7. How Binomial distribution different from Poisson distribution?"
   ]
  },
  {
   "cell_type": "markdown",
   "id": "fd5d021f",
   "metadata": {},
   "source": [
    "The Binomial distribution and Poisson distribution are both probability distributions used in statistics, but they have distinct differences based on their characteristics and applications. Here are the key differences between the Binomial distribution and the Poisson distribution:\n",
    "\n",
    "Number of Trials:\n",
    "\n",
    "Binomial Distribution: The Binomial distribution is used when you have a fixed number of independent trials (n) and you want to calculate the probability of a specific number of successes (k) occurring in those trials.\n",
    "\n",
    "Poisson Distribution: The Poisson distribution is used when you are interested in modeling the number of events that occur in a fixed interval of time or space. It does not have a fixed number of trials; instead, it deals with events happening over continuous time or space.\n",
    "\n",
    "Nature of Outcomes:\n",
    "\n",
    "Binomial Distribution: The Binomial distribution deals with binary outcomes, typically referred to as \"success\" and \"failure.\" Each trial in a Binomial distribution has two possible outcomes.\n",
    "\n",
    "Poisson Distribution: The Poisson distribution is used for modeling events that are rare and random, and it counts the number of events that occur within a continuous interval. The outcomes are counts of events, which can range from 0 to infinity.\n",
    "\n",
    "Parameters:\n",
    "\n",
    "Binomial Distribution: The Binomial distribution is characterized by two parameters: the number of trials (n) and the probability of success (p) in each trial.\n",
    "\n",
    "Poisson Distribution: The Poisson distribution is characterized by a single parameter, λ (lambda), which represents the average rate of events in the fixed interval. It is the mean and variance of the distribution.\n",
    "\n",
    "Shape of Distribution:\n",
    "\n",
    "Binomial Distribution: The shape of the Binomial distribution can vary depending on the values of n and p, but it tends to be symmetric and bell-shaped for moderate values of n.\n",
    "\n",
    "Poisson Distribution: The Poisson distribution often has a right-skewed shape, especially when the event rate λ is small. As λ increases, it approaches a more symmetric shape resembling a normal distribution.\n",
    "\n",
    "Applications:\n",
    "\n",
    "Binomial Distribution: The Binomial distribution is commonly used when dealing with situations such as coin flips, pass/fail outcomes, success/failure experiments, and situations with a fixed number of trials.\n",
    "\n",
    "Poisson Distribution: The Poisson distribution is used to model rare events such as the number of customer arrivals at a service center in an hour, the number of phone calls to a call center in a minute, or the number of accidents at an intersection in a day."
   ]
  },
  {
   "cell_type": "markdown",
   "id": "c4cdc25c",
   "metadata": {},
   "source": [
    "# Q8. Generate a random sample of size 1000 from a Poisson distribution with mean 5 and calculate the sample mean and variance."
   ]
  },
  {
   "cell_type": "code",
   "execution_count": 6,
   "id": "3a3d1ae2",
   "metadata": {},
   "outputs": [
    {
     "name": "stdout",
     "output_type": "stream",
     "text": [
      "Sample Mean: 4.914\n",
      "Sample Variance: 5.121725725725725\n"
     ]
    }
   ],
   "source": [
    "import numpy as np\n",
    "\n",
    "# Parameters\n",
    "mean = 5\n",
    "sample_size = 1000\n",
    "\n",
    "# Generate a random sample from a Poisson distribution\n",
    "random_sample = np.random.poisson(mean, sample_size)\n",
    "\n",
    "# Calculate sample mean and variance\n",
    "sample_mean = np.mean(random_sample)\n",
    "sample_variance = np.var(random_sample, ddof=1)  # Use ddof=1 for sample variance\n",
    "\n",
    "# Print the results\n",
    "print(f\"Sample Mean: {sample_mean}\")\n",
    "print(f\"Sample Variance: {sample_variance}\")\n"
   ]
  },
  {
   "cell_type": "markdown",
   "id": "c57bcb77",
   "metadata": {},
   "source": [
    "# Q9. How mean and variance are related in Binomial distribution and Poisson distribution?"
   ]
  },
  {
   "cell_type": "markdown",
   "id": "a38b4152",
   "metadata": {},
   "source": [
    "In both the Binomial distribution and the Poisson distribution, the mean mu and variance sigma^2 are related, but the nature of this relationship differs between the two distributions.\n",
    "\n",
    "**Binomial Distribution:**\n",
    "\n",
    "In the Binomial distribution, the mean mu  and variance sigma^2 are related as follows:\n",
    "\n",
    "mu = np\n",
    "sigma^2 = npq\n",
    "\n",
    " n represents the number of trials.\n",
    " p represents the probability of success in each trial.\n",
    " q = 1 - p  represents the probability of failure in each trial.\n",
    "\n",
    "The variance in a Binomial distribution is directly proportional to both the number of trials n and the probability of success p . As you increase n or p, the variance also increases.\n",
    "\n",
    "**Poisson Distribution:**\n",
    "\n",
    "In the Poisson distribution, the mean mu and variance sigma^2 are related as follows:\n",
    "\n",
    "mu = sigma^2\n",
    "\n",
    "In the Poisson distribution, the mean and variance are equal. This is a characteristic feature of the Poisson distribution, where the mean mu represents both the expected number of events and the variance of the number of events. The Poisson distribution is often used to model rare and random events where the variance is roughly equal to the mean.\n",
    "\n",
    "In summary, in the Binomial distribution, the variance depends on both the number of trials n and the probability of success p, whereas in the Poisson distribution, the variance is directly equal to the mean mu and does not depend on other parameters."
   ]
  },
  {
   "cell_type": "markdown",
   "id": "b9a4e909",
   "metadata": {},
   "source": [
    "# Q10. In normal distribution with respect to mean position, where does the least frequent data appear?"
   ]
  },
  {
   "cell_type": "markdown",
   "id": "7fd9a880",
   "metadata": {},
   "source": [
    "In a normal distribution, also known as a Gaussian distribution, the least frequent data points appear in the tails of the distribution, farthest away from the mean. Specifically:\n",
    "\n",
    "Left Tail: Data points to the left (lower values) of the mean are less frequent. These are sometimes referred to as the \"negative\" or \"lower\" tail of the distribution.\n",
    "\n",
    "Right Tail: Data points to the right (higher values) of the mean are also less frequent. These are sometimes referred to as the \"positive\" or \"upper\" tail of the distribution.\n",
    "\n",
    "The majority of the data, which represents the most frequent observations, is concentrated around the mean. This is why a normal distribution is characterized by its bell-shaped curve, with the peak (mode) at the mean and symmetric tails on both sides.\n",
    "\n",
    "The tails of the normal distribution contain the extreme or rare observations, which occur with lower probabilities. The farther you move away from the mean in either direction, the less likely you are to encounter data points in those regions."
   ]
  },
  {
   "cell_type": "code",
   "execution_count": null,
   "id": "a8d05a10",
   "metadata": {},
   "outputs": [],
   "source": []
  }
 ],
 "metadata": {
  "kernelspec": {
   "display_name": "Python 3 (ipykernel)",
   "language": "python",
   "name": "python3"
  },
  "language_info": {
   "codemirror_mode": {
    "name": "ipython",
    "version": 3
   },
   "file_extension": ".py",
   "mimetype": "text/x-python",
   "name": "python",
   "nbconvert_exporter": "python",
   "pygments_lexer": "ipython3",
   "version": "3.11.4"
  }
 },
 "nbformat": 4,
 "nbformat_minor": 5
}
